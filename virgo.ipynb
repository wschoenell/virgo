{
 "cells": [
  {
   "cell_type": "markdown",
   "metadata": {},
   "source": [
    "Code to make a script to download the spectra from SDSS:"
   ]
  },
  {
   "cell_type": "code",
   "execution_count": 1,
   "metadata": {
    "collapsed": false
   },
   "outputs": [],
   "source": [
    "import os\n",
    "import numpy as np\n",
    "from astropy.io import fits\n",
    "from scipy import sparse"
   ]
  },
  {
   "cell_type": "code",
   "execution_count": 2,
   "metadata": {
    "collapsed": true
   },
   "outputs": [],
   "source": [
    "tab = fits.getdata(\"virgo_william.fit\")"
   ]
  },
  {
   "cell_type": "code",
   "execution_count": 5,
   "metadata": {
    "collapsed": false
   },
   "outputs": [],
   "source": [
    "wget_list = [\"wget -c https://dr12.sdss.org/sas/dr12/sdss/spectro/redux/26/spectra/%04d/spec-%04d-%d-%04d.fits\\n\" % (v[\"plate\"], v[\"plate\"], v[\"mjd\"], v[\"fiberID\"]) for v in tab]"
   ]
  },
  {
   "cell_type": "code",
   "execution_count": 6,
   "metadata": {
    "collapsed": false,
    "scrolled": false
   },
   "outputs": [],
   "source": [
    "with open(\"wget_spec.sh\", \"w\") as fp:\n",
    "    fp.writelines(wget_list)"
   ]
  },
  {
   "cell_type": "markdown",
   "metadata": {},
   "source": [
    "After spectra is donwnloaded, calculate magnitudes"
   ]
  },
  {
   "cell_type": "code",
   "execution_count": 17,
   "metadata": {
    "collapsed": false
   },
   "outputs": [],
   "source": [
    "from syntphot import photoconv\n",
    "from readfilterset import FilterSet"
   ]
  },
  {
   "cell_type": "code",
   "execution_count": 18,
   "metadata": {
    "collapsed": false
   },
   "outputs": [],
   "source": [
    "f = FilterSet(\"splus_herpich.hdf5\")\n",
    "f.load(\"splus\", 1)"
   ]
  },
  {
   "cell_type": "code",
   "execution_count": 29,
   "metadata": {
    "collapsed": false
   },
   "outputs": [],
   "source": [
    "magnitudes = np.zeros((len(tab), len(f.filter_wls)))\n",
    "specobjids = np.zeros(len(tab), dtype=np.int)"
   ]
  },
  {
   "cell_type": "code",
   "execution_count": 56,
   "metadata": {
    "collapsed": false
   },
   "outputs": [
    {
     "name": "stdout",
     "output_type": "stream",
     "text": [
      "Auto-detected table type: fits\n",
      "N_points: 211, N_bad: 17\n",
      "Magnitude to filter F0378: 20.60, error: 0.00\n",
      "N_points: 475, N_bad: 23\n",
      "Magnitude to filter F0395: 20.69, error: 0.01\n",
      "N_points: 626, N_bad: 23\n",
      "Magnitude to filter F0410: 20.56, error: 0.01\n",
      "N_points: 443, N_bad: 2\n",
      "Magnitude to filter F0430: 20.27, error: 0.01\n",
      "N_points: 329, N_bad: 0\n",
      "No bad pixel! =)\n",
      "Magnitude to filter F0515: 19.08, error: 0.01\n",
      "N_points: 257, N_bad: 0\n",
      "No bad pixel! =)\n",
      "Magnitude to filter F0660: 18.04, error: 0.01\n",
      "N_points: 603, N_bad: 32\n",
      "Magnitude to filter F0861: 17.46, error: 0.00\n",
      "N_points: 1903, N_bad: 29\n",
      "Magnitude to filter gSDSS: 19.45, error: 0.00\n",
      "N_points: 1544, N_bad: 42\n",
      "Magnitude to filter iSDSS: 17.70, error: 0.00\n",
      "N_points: 1755, N_bad: 7\n",
      "Magnitude to filter rSDSS: 18.21, error: 0.00\n",
      "N_points: 727, N_bad: 23\n",
      "Magnitude to filter uJAVA: 20.62, error: 0.00\n",
      "N_points: 952, N_bad: 40\n",
      "Magnitude to filter zSDSS: 17.43, error: 0.00\n",
      "Auto-detected table type: fits\n",
      "N_points: 211, N_bad: 17\n",
      "Magnitude to filter F0378: 20.60, error: 0.00\n",
      "N_points: 475, N_bad: 23\n",
      "Magnitude to filter F0395: 20.69, error: 0.01\n",
      "N_points: 626, N_bad: 23\n",
      "Magnitude to filter F0410: 20.56, error: 0.01\n",
      "N_points: 443, N_bad: 2\n",
      "Magnitude to filter F0430: 20.27, error: 0.01\n",
      "N_points: 329, N_bad: 0\n",
      "No bad pixel! =)\n",
      "Magnitude to filter F0515: 19.08, error: 0.01\n",
      "N_points: 257, N_bad: 0\n",
      "No bad pixel! =)\n",
      "Magnitude to filter F0660: 18.04, error: 0.01\n",
      "N_points: 603, N_bad: 32\n",
      "Magnitude to filter F0861: 17.46, error: 0.00\n",
      "N_points: 1903, N_bad: 29\n",
      "Magnitude to filter gSDSS: 19.45, error: 0.00\n",
      "N_points: 1544, N_bad: 42\n",
      "Magnitude to filter iSDSS: 17.70, error: 0.00\n",
      "N_points: 1755, N_bad: 7\n",
      "Magnitude to filter rSDSS: 18.21, error: 0.00\n",
      "N_points: 727, N_bad: 23\n",
      "Magnitude to filter uJAVA: 20.62, error: 0.00\n",
      "N_points: 952, N_bad: 40\n",
      "Magnitude to filter zSDSS: 17.43, error: 0.00\n"
     ]
    }
   ],
   "source": [
    "for i_gal, gal in enumerate(tab[:2]):\n",
    "    v = tab[i_gal]\n",
    "    specobjids[i_gal] = tab[i_gal]['specObjID']\n",
    "    magnitudes[i_gal] = photoconv().fromSDSSfits(f.filterset, \"spec/spec-%04d-%d-%04d.fits\" % (v[\"plate\"], v[\"mjd\"], v[\"fiberID\"]))['m_ab']"
   ]
  },
  {
   "cell_type": "code",
   "execution_count": 40,
   "metadata": {
    "collapsed": false
   },
   "outputs": [
    {
     "data": {
      "text/plain": [
       "(array([347003650687631360, 346722150712868864]),\n",
       " array([[ 20.60178947,  20.68842888,  20.56106567,  20.26911545,\n",
       "          19.08202744,  18.03684807,  17.46020508,  19.45278168,\n",
       "          17.70477104,  18.20992279,  20.61692238,  17.42697144],\n",
       "        [ 20.60178947,  20.68842888,  20.56106567,  20.26911545,\n",
       "          19.08202744,  18.03684807,  17.46020508,  19.45278168,\n",
       "          17.70477104,  18.20992279,  20.61692238,  17.42697144]]))"
      ]
     },
     "execution_count": 40,
     "metadata": {},
     "output_type": "execute_result"
    }
   ],
   "source": [
    "specobjids[:2], magnitudes[:2]"
   ]
  },
  {
   "cell_type": "code",
   "execution_count": 55,
   "metadata": {
    "collapsed": false
   },
   "outputs": [],
   "source": [
    "try:\n",
    "    os.unlink(\"jplus_mags.csv\")\n",
    "except OSError:\n",
    "    pass\n",
    "np.savetxt(\"jplus_mags.csv\", np.column_stack((specobjids[:,np.newaxis],magnitudes)), delimiter=',', fmt='%i ' + len(f.filter_wls) * \"%6.3f \", header=\"specobjid \" + \" \".join(f.filter_wls[\"ID_filter\"]) * 2 )"
   ]
  },
  {
   "cell_type": "code",
   "execution_count": 11,
   "metadata": {
    "collapsed": false
   },
   "outputs": [
    {
     "name": "stdout",
     "output_type": "stream",
     "text": [
      "(numpy.record, [('specObjID', '>i8'), ('mjd', '>i4'), ('plate', '>i2'), ('tile', '>i2'), ('xFocal', '>f8'), ('yFocal', '>f8'), ('fiberID', '>i2'), ('z', '>f4'), ('zErr', '>f4'), ('zConf', '>f4'), ('zStatus', '>i2'), ('specClass', '>i2'), ('zWarning', '>i4'), ('velDisp', '>f4'), ('velDispErr', '>f4'), ('eCoeff_0', '>f4'), ('eCoeff_1', '>f4'), ('eCoeff_2', '>f4'), ('eCoeff_3', '>f4'), ('eCoeff_4', '>f4'), ('eClass', '>f4'), ('nGood', '>i4'), ('sn_0', '>f4'), ('sn_1', '>f4'), ('sn_2', '>f4'), ('mag_0', '>f4'), ('mag_1', '>f4'), ('mag_2', '>f4'), ('ra', '>f8'), ('dec', '>f8'), ('cx', '>f8'), ('cy', '>f8'), ('cz', '>f8'), ('htmID', '>i8'), ('fiberMag_u', '>f4'), ('fiberMag_g', '>f4'), ('fiberMag_r', '>f4'), ('fiberMag_i', '>f4'), ('fiberMag_z', '>f4'), ('primTarget', '>i4'), ('secTarget', '>i4'), ('seguePrimTarget', '>i4'), ('segueSecTarget', '>i4'), ('otherPrimTarget', '>i4'), ('otherSecTarget', '>i4'), ('pixMin', '>i2'), ('pixMax', '>i2'), ('sci_sn', '>f4'), ('smear_sn', '>f4'), ('sm_leg_0', '>f4'), ('sm_leg_1', '>f4'), ('sm_leg_2', '>f4'), ('sciencePrimary', '>i2'), ('loadVersion', '>i4'), ('plateID', '>i8'), ('spectrographID', '>i2'), ('throughput', '>i4'), ('objType', '>i4'), ('objTypeName', 'S32'), ('targetID', '>i8'), ('targetObjID', '>i8'), ('bestObjID', '>i8')])\n"
     ]
    }
   ],
   "source": []
  },
  {
   "cell_type": "code",
   "execution_count": 27,
   "metadata": {
    "collapsed": false
   },
   "outputs": [
    {
     "name": "stdout",
     "output_type": "stream",
     "text": [
      "(347003650687631360,  0.,  0.,  0.,  0.,  0.,  0.,  0.,  0.,  0.,  0.,  0.,  0.)\n"
     ]
    }
   ],
   "source": [
    "print magnitudes[i_gal]"
   ]
  },
  {
   "cell_type": "markdown",
   "metadata": {
    "collapsed": false
   },
   "source": [
    "Create a table of starlight_id and specobjid to match using grep"
   ]
  },
  {
   "cell_type": "code",
   "execution_count": 3,
   "metadata": {
    "collapsed": true
   },
   "outputs": [],
   "source": [
    "join_tsv = [\"%04d.%d.%03d\\t %i\\n\" % (v[\"plate\"], v[\"mjd\"], v[\"fiberID\"], v[\"specObjID\"]) for v in tab]\n",
    "with open(\"join_starlight_specobjid.txt\", \"w\") as fp:\n",
    "    fp.writelines(join_tsv)"
   ]
  },
  {
   "cell_type": "code",
   "execution_count": null,
   "metadata": {
    "collapsed": true
   },
   "outputs": [],
   "source": []
  }
 ],
 "metadata": {
  "kernelspec": {
   "display_name": "Python 2",
   "language": "python",
   "name": "python2"
  },
  "language_info": {
   "codemirror_mode": {
    "name": "ipython",
    "version": 2
   },
   "file_extension": ".py",
   "mimetype": "text/x-python",
   "name": "python",
   "nbconvert_exporter": "python",
   "pygments_lexer": "ipython2",
   "version": "2.7.13"
  }
 },
 "nbformat": 4,
 "nbformat_minor": 2
}
